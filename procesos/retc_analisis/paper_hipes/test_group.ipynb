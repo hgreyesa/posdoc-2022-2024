{
 "cells": [
  {
   "cell_type": "markdown",
   "metadata": {},
   "source": [
    "# Ejemplos de group "
   ]
  },
  {
   "cell_type": "markdown",
   "metadata": {},
   "source": [
    "## Definición de dependencias"
   ]
  },
  {
   "cell_type": "code",
   "execution_count": 1,
   "metadata": {},
   "outputs": [],
   "source": [
    "import pandas as pd\n",
    "import matplotlib.pyplot as plt\n",
    "import seaborn as sns\n",
    "import numpy as np\n",
    "import branca\n",
    "import branca.colormap as cm\n",
    "import os"
   ]
  },
  {
   "cell_type": "markdown",
   "metadata": {},
   "source": [
    "## Lectura de los datos de entrada"
   ]
  },
  {
   "cell_type": "code",
   "execution_count": 2,
   "metadata": {},
   "outputs": [],
   "source": [
    "#Se lee el contenido de la base de datos fusionada\n",
    "inputpath =\"/home/reyes/backup/retc20042022fusionada/retc_2004_2022_complete.csv\"\n",
    "joined = pd.read_csv(inputpath, sep=\",\",low_memory=False, encoding='utf-8')"
   ]
  },
  {
   "cell_type": "markdown",
   "metadata": {},
   "source": [
    "## Actualizaciones en los valores previo al procesamiento"
   ]
  },
  {
   "cell_type": "markdown",
   "metadata": {},
   "source": [
    "### Se reemplazan los valores vacios en la columna iarc_group"
   ]
  },
  {
   "cell_type": "code",
   "execution_count": 3,
   "metadata": {},
   "outputs": [],
   "source": [
    "joined.fillna({\"iarc_group\":\"NC\"},inplace=True)"
   ]
  },
  {
   "cell_type": "markdown",
   "metadata": {},
   "source": [
    "### Se convierten los valores de la columna cve_ent de int (1 a 32) a str ('01' a '32' )"
   ]
  },
  {
   "cell_type": "code",
   "execution_count": 4,
   "metadata": {},
   "outputs": [],
   "source": [
    "joined[\"cve_ent_str\"] = [str(x).zfill(2) for x in joined.cve_ent]\n"
   ]
  },
  {
   "cell_type": "markdown",
   "metadata": {},
   "source": [
    "### Se convierten los valores de la columna cve_mun de int (0 a 999) a str ('00' a '999' )"
   ]
  },
  {
   "cell_type": "code",
   "execution_count": 5,
   "metadata": {},
   "outputs": [],
   "source": [
    "joined[\"cve_mun_str\"] = [str(x).zfill(3) for x in joined.cve_mun]"
   ]
  },
  {
   "cell_type": "markdown",
   "metadata": {},
   "source": [
    "### Se cambia el valor de iarc_group * por Only RETC"
   ]
  },
  {
   "cell_type": "code",
   "execution_count": 6,
   "metadata": {},
   "outputs": [],
   "source": [
    "#joined[\"iarc_group\"] = [str(x).zfill(3) for x in joined.cve_mun]\n",
    "joined.loc[joined[\"iarc_group\"] == \"*\", \"iarc_group\"] = \"NC\""
   ]
  },
  {
   "cell_type": "markdown",
   "metadata": {},
   "source": [
    "## Primer ejemplo del group"
   ]
  },
  {
   "cell_type": "markdown",
   "metadata": {},
   "source": [
    "### Se obtiene un subconjunto de columnas para el análisis"
   ]
  },
  {
   "cell_type": "code",
   "execution_count": 7,
   "metadata": {},
   "outputs": [],
   "source": [
    "#Se clonan los datos de entrada\n",
    "to_group = joined[[\n",
    "    \"anio\", \"cve_ent_str\",'estado', 'cve_mun_str', 'municipio', 'sector', 'localidad', 'cas', 'sustancia', 'iarc_group', \"finallat\", \"finallng\",\n",
    "    'em_agua', 'em_aire', 'em_suelo', \n",
    "    'tr_alcantarillado', 'tr_coprocesamiento', 'tr_dispfinal', 'tr_incineracion', 'tr_otros', 'tr_reciclado', 'tr_reutilizacion', 'tr_tratamiento',\n",
    "]]\n"
   ]
  },
  {
   "cell_type": "code",
   "execution_count": 8,
   "metadata": {},
   "outputs": [],
   "source": [
    "#Se realiza la primer a agrupacion\n",
    "#joined.columns\n",
    "#to_group.head()"
   ]
  },
  {
   "cell_type": "markdown",
   "metadata": {},
   "source": [
    "### Agrupación por año"
   ]
  },
  {
   "cell_type": "code",
   "execution_count": 9,
   "metadata": {},
   "outputs": [],
   "source": [
    "#grouped_by_year = to_group.groupby([\"anio\"])"
   ]
  },
  {
   "cell_type": "markdown",
   "metadata": {},
   "source": [
    "#### Se agrega el valor de año a todas las filas"
   ]
  },
  {
   "cell_type": "code",
   "execution_count": 10,
   "metadata": {},
   "outputs": [],
   "source": [
    "#to_group.anio.reset_index()"
   ]
  },
  {
   "cell_type": "code",
   "execution_count": 11,
   "metadata": {},
   "outputs": [],
   "source": [
    "#grouped_by_year.first()\n",
    "#grouped_by_year.get_group(2004)"
   ]
  },
  {
   "cell_type": "code",
   "execution_count": 16,
   "metadata": {},
   "outputs": [],
   "source": [
    "#for namedf,group_df  in grouped_by_year:\n",
    "#    df_temp = group_df.sort_values(by=[\"cve_ent_str\", \"cve_mun_str\"])\n",
    "    #print(df_temp.head())\n",
    "    #df_temp.to_csv(\"gbyyear/{}_group.csv\".format(df_temp['anio'].iloc[0]), index=False)\n",
    "    #data.anio.reset_index()\n",
    "\n",
    "grouped_by_iarc = to_group.groupby([\"iarc_group\"])\n",
    "\n",
    "import folium\n"
   ]
  },
  {
   "cell_type": "code",
   "execution_count": null,
   "metadata": {},
   "outputs": [],
   "source": [
    "\n",
    "COLORS = list(to_group[\"iarc_group\"].unique())\n",
    "colormap = cm.LinearColormap(colors=['lightblue','red'], index=[min(COLORS),max(COLORS)],vmin=min(COLORS),vmax=max(COLORS))\n",
    "for namedf,group_df  in grouped_by_iarc:\n",
    "    df_temp = group_df.sort_values(by=[\"cve_ent_str\", \"cve_mun_str\"])\n",
    "    print(df_temp['iarc_group'].iloc[0])\n",
    "    #df_temp.to_csv(\"gby_year_ent/{}_{}_group.csv\".format(df_temp['anio'].iloc[0], df_temp['cve_ent_str'].iloc[0]), index=False)\n",
    "    #out_path = \"%s%s/\" %(\"to_publish/\",df_temp['iarc_group'].iloc[0])\n",
    "    out_path = \"to_publish/{}\".format(df_temp['iarc_group'].iloc[0])\n",
    "    try:    \n",
    "        os.mkdir(out_path)\n",
    "    except FileExistsError:\n",
    "        pass\n",
    "\n",
    "\n",
    "    locat= [to_group[\"finallat\"].median(), to_group[\"finallng\"].median()]\n",
    "    \n",
    "\n",
    "    #iniciamos el recorrio los datos del grupo\n",
    "    for index, location_info in group_df.iterrows():\n",
    "\n",
    "        map_layer = folium.Map(location=locat, zoom_start=6, control_scale=True,prefer_canvas=True)\n",
    "        class_label = location_info[\"iarc_group\"]\n",
    "        html = \"\"\n",
    "        html += \"<p>{}{}</p>\".format(location_info[\"cas\"],location_info[\"sustancia\"])\n",
    "        html += \"<p>{}{}</p>\".format(\"Aire\",location_info[\"em_aire\"])\n",
    "        html += \"<p>{}{}</p>\".format(\"Agua\",location_info[\"em_agua\"])\n",
    "        html += \"<p>{}{}</p>\".format(\"Suelo\",location_info[\"em_suelo\"])\n",
    "\n",
    "        iframe = folium.IFrame(html,width=100,height=100)\n",
    "        popup = folium.Popup(iframe,max_width=100)\n",
    "        t =  folium.CircleMarker(location=[location_info[\"finallat\"],location_info[\"finallng\"]],\n",
    "                        radius=4,\n",
    "                        fill=True,\n",
    "                        color=colormap(class_label),\n",
    "                        popup=popup,\n",
    "                        fill_color=colormap(class_label)).add_to(map_layer)\n",
    "        \n",
    "\n",
    "        try:\n",
    "            image_path = '%s%s.html'%(out_path,class_label)\n",
    "            #LOGER.error(\"GUARDANDO\")\n",
    "            map_layer.save(image_path)\n",
    "            del map_layer\n",
    "            #LOGER.error(image_path)\n",
    "            #if MapType==2:\n",
    "            #    break\n",
    "        \n",
    "        except Exception as e:\n",
    "            print(\"Error\")\n",
    "\n",
    "    #locat= [df_temp[\"finallat\"].median(), df_temp[\"finallng\"].median()]\n",
    "\n",
    "\n",
    "    \n"
   ]
  }
 ],
 "metadata": {
  "kernelspec": {
   "display_name": "Python 3",
   "language": "python",
   "name": "python3"
  },
  "language_info": {
   "codemirror_mode": {
    "name": "ipython",
    "version": 3
   },
   "file_extension": ".py",
   "mimetype": "text/x-python",
   "name": "python",
   "nbconvert_exporter": "python",
   "pygments_lexer": "ipython3",
   "version": "3.10.12"
  }
 },
 "nbformat": 4,
 "nbformat_minor": 2
}
